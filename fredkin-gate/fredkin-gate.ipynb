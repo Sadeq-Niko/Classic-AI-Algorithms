{
 "cells": [
  {
   "cell_type": "code",
   "execution_count": null,
   "metadata": {},
   "outputs": [],
   "source": [
    "import numpy as np\n",
    "import matplotlib.pyplot as plt\n",
    "from mpl_toolkits import mplot3d\n",
    "x = [[0,0,0],[0,0,1],[0,1,0],[0,1,1],[1,0,0],[1,0,1],[1,1,0],[1,1,1]]\n",
    "o = [[0,0],[0,1],[1,0],[1,1],[0,0],[1,0],[0,1],[1,1]]\n",
    "e = 1\n",
    "teta1 = 0.2\n",
    "teta2 = -1.3\n",
    "eta = 0.1\n",
    "w = [[1,2,3],[3,2,1]]\n",
    "z=w\n",
    "#wt = [[1,4],[2,5],[3,6]]\n",
    "fig = plt.figure()\n",
    "ax = plt.axes(projection='3d')\n",
    "xt = np.transpose(x)\n",
    "ax.scatter(xt[0],xt[1],xt[2])\n",
    "plt.show()\n",
    "epoch = 1\n",
    "while e>0 :\n",
    "    e=0\n",
    "    for i in range(8):\n",
    "        y=[None,None]\n",
    "        wt = np.transpose(w)\n",
    "        y =np.matmul(x[i],wt)\n",
    "        #y = x[i]*wt\n",
    "        if y[0] >= teta1:\n",
    "            y[0] = 1\n",
    "        else:\n",
    "            y[0] = 0\n",
    "        if y[1] >= teta2:\n",
    "            y[1] = 1\n",
    "        else:\n",
    "            y[1] = 0\n",
    "        if y[0]!=o[i][0]:\n",
    "            teta1=teta1 -eta*((o[i][0])-y[0])\n",
    "            w[0] = w[0] + (eta*(o[i][0]-y[0])*np.array(x[i]))\n",
    "            e = e + abs(o[i][0]-y[0])\n",
    "        if y[1]!=o[i][1]:\n",
    "            teta2=teta2 -eta*(o[i][1]-y[1])\n",
    "            w[1] = w[1] + (eta*(o[i][1]-y[1])*np.array(x[i]))\n",
    "            e = e + abs(o[i][1]-y[1])\n",
    "            pass\n",
    "    print(\"..............\")\n",
    "    print(f\"epoch:{epoch}\")\n",
    "    print(f'teta1:{teta1}')\n",
    "    print(f'teta2:{teta2}')\n",
    "    print(f'w:{w}')\n",
    "    print(f'y:{y}')\n",
    "    print(f'e:{e}')\n",
    "    epoch+=1"
   ]
  }
 ],
 "metadata": {
  "kernelspec": {
   "display_name": "py310",
   "language": "python",
   "name": "python3"
  },
  "language_info": {
   "codemirror_mode": {
    "name": "ipython",
    "version": 3
   },
   "file_extension": ".py",
   "mimetype": "text/x-python",
   "name": "python",
   "nbconvert_exporter": "python",
   "pygments_lexer": "ipython3",
   "version": "3.10.15"
  }
 },
 "nbformat": 4,
 "nbformat_minor": 2
}
